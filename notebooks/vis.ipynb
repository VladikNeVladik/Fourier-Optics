{
 "cells": [
  {
   "cell_type": "markdown",
   "metadata": {
    "colab_type": "text",
    "id": "G_3xDJTgGIzj"
   },
   "source": [
    "# Functions"
   ]
  },
  {
   "cell_type": "code",
   "execution_count": null,
   "metadata": {
    "colab": {},
    "colab_type": "code",
    "id": "JwNiMNEZLY6S"
   },
   "outputs": [],
   "source": [
    "# pip install numpy\n",
    "# pip install matplotlib\n",
    "# pip install seaborn"
   ]
  },
  {
   "cell_type": "code",
   "execution_count": null,
   "metadata": {
    "colab": {},
    "colab_type": "code",
    "id": "v6VIws74hAof"
   },
   "outputs": [],
   "source": [
    "import numpy as np\n",
    "import seaborn as sns\n",
    "import matplotlib.pyplot as plt\n",
    "import pandas as pd"
   ]
  },
  {
   "cell_type": "code",
   "execution_count": null,
   "metadata": {
    "colab": {},
    "colab_type": "code",
    "id": "yYGtMI5gGObf"
   },
   "outputs": [],
   "source": [
    "def draw(data, dim, coordinate, label_x, label_y):\n",
    "  ''' \n",
    "  data        - np.array in shape (A, B)\n",
    "  dim         - int: {0, 1}, what dimension we will visualize\n",
    "  coordinate  - int: [0, A] or [0, B], what coordinate we will fix\n",
    "  '''\n",
    "  \n",
    "  ax, fig = plt.subplots(figsize=(20,15))\n",
    "\n",
    "  y = data[coordinate, :] if dim==0 else data[:, coordinate]\n",
    "  x = np.arange(0, len(data))\n",
    "  plt.plot(x, y)\n",
    " \n",
    "  plt.xlabel(label_x, fontsize=12)\n",
    "  plt.ylabel(label_y, fontsize=12)\n",
    "  plt.grid(True)\n",
    "  plt.show()\n",
    "\n",
    "def slice_at_x(data, x=0, label_x='', label_y=''):\n",
    "  draw(data, 0, x, label_x, label_y)\n",
    "\n",
    "def slice_at_z(data, z=0, label_x='', label_y=''):\n",
    "  draw(data, 1, z, label_x, label_y)"
   ]
  },
  {
   "cell_type": "markdown",
   "metadata": {
    "colab_type": "text",
    "id": "CY_abg2OGMLQ"
   },
   "source": [
    "# ...\n"
   ]
  },
  {
   "cell_type": "code",
   "execution_count": null,
   "metadata": {
    "colab": {},
    "colab_type": "code",
    "id": "4aWUxc37JuAx"
   },
   "outputs": [],
   "source": [
    "path_base = \"path/to/res\"\n",
    "\n",
    "path_vacuum        = path_base + \"vacuum.npy\"\n",
    "path_amp_lattice   = path_base + \"amp-lattice.npy\"\n",
    "path_phase_lattice = path_base + \"phase-lattice.npy\"\n",
    "path_diffraction   = path_base + \"diffraction.npy\"\n",
    "path_interference  = path_base + \"interference.npy\"\n",
    "path_gaussian_lens = path_base + \"gaussian-lens.npy\"\n",
    "path_canalisation  = path_base + \"canalisation.npy\"\n",
    "path_turbulence    = path_base + \"turbulence.npy\""
   ]
  },
  {
   "cell_type": "code",
   "execution_count": null,
   "metadata": {
    "colab": {
     "base_uri": "https://localhost:8080/",
     "height": 900
    },
    "colab_type": "code",
    "id": "0TVrQCDViOLB",
    "outputId": "3928ff47-197e-4c18-e46c-a28415b1c1e6"
   },
   "outputs": [],
   "source": [
    "data = np.load(path_diffraction)\n",
    "diffraction_amps = data[:, :, 0].transpose()\n",
    "amps = np.log1p(diffraction_amps)\n",
    "\n",
    "plot = pd.DataFrame(amps)\n",
    "plot = plot.rename({i: round(i*100/16384) for i in range(data.shape[1])}, axis=0)\n",
    "plot = plot.rename({i: round(i* 16/   10) for i in range(data.shape[0])}, axis=1)\n",
    "\n",
    "ax, fig = plt.subplots(figsize=(20,15))\n",
    "sns.heatmap(plot)\n",
    "plt.xlabel(\"Z, м\", fontsize=12) \n",
    "plt.ylabel(\"X, м\", fontsize=12) \n",
    "\n",
    "plt.show()"
   ]
  },
  {
   "cell_type": "code",
   "execution_count": null,
   "metadata": {},
   "outputs": [],
   "source": [
    "slice_at_z(diffraction_amps, z=1, label_x=\"x/\\u0394x\", label_y=\"I(x,1\\u0394z)\")"
   ]
  },
  {
   "cell_type": "code",
   "execution_count": null,
   "metadata": {},
   "outputs": [],
   "source": [
    "slice_at_z(diffraction_amps, z=10, label_x=\"x/\\u0394x\", label_y=\"I(x, 10\\u0394z)\")"
   ]
  },
  {
   "cell_type": "code",
   "execution_count": null,
   "metadata": {},
   "outputs": [],
   "source": [
    "slice_at_z(diffraction_amps, z=100, label_x=\"x/\\u0394x\", label_y=\"I(x, 100\\u0394z)\")"
   ]
  },
  {
   "cell_type": "code",
   "execution_count": null,
   "metadata": {},
   "outputs": [],
   "source": [
    "slice_at_z(diffraction_amps, z=500, label_x=\"x/\\u0394x\", label_y=\"I(x, 500\\u0394z)\")"
   ]
  },
  {
   "cell_type": "code",
   "execution_count": null,
   "metadata": {},
   "outputs": [],
   "source": [
    "slice_at_z(diffraction_amps, z=1000, label_x=\"x/\\u0394x\", label_y=\"I(x, 1000\\u0394z)\")"
   ]
  },
  {
   "cell_type": "code",
   "execution_count": null,
   "metadata": {},
   "outputs": [],
   "source": [
    "slice_at_z(diffraction_amps, z=2000, label_x=\"x/\\u0394x\", label_y=\"I(x, 2000\\u0394z)\")"
   ]
  },
  {
   "cell_type": "code",
   "execution_count": null,
   "metadata": {},
   "outputs": [],
   "source": [
    "slice_at_z(diffraction_amps, z=3000, label_x=\"x/\\u0394x\", label_y=\"I(x, 3000\\u0394z)\")"
   ]
  },
  {
   "cell_type": "code",
   "execution_count": null,
   "metadata": {
    "colab": {
     "base_uri": "https://localhost:8080/",
     "height": 265
    },
    "colab_type": "code",
    "id": "HalGxh2bi-FL",
    "outputId": "d4922168-a611-4b2d-aa52-7d097617895d"
   },
   "outputs": [],
   "source": [
    "data = np.load(path_interference)\n",
    "interference_amps = data[:, :, 0].transpose()\n",
    "amps = np.log1p(10000 * interference_amps)\n",
    "\n",
    "plot = pd.DataFrame(amps)\n",
    "plot = plot.rename({i: round(i*100/16384) for i in range(data.shape[1])}, axis=0)\n",
    "plot = plot.rename({i: round(i* 16/   10) for i in range(data.shape[0])}, axis=1)\n",
    "\n",
    "ax, fig = plt.subplots(figsize=(20,15))\n",
    "sns.heatmap(plot)\n",
    "plt.xlabel(\"Z, м\", fontsize=12) \n",
    "plt.ylabel(\"X, м\", fontsize=12) \n",
    "\n",
    "plt.show()"
   ]
  },
  {
   "cell_type": "code",
   "execution_count": null,
   "metadata": {},
   "outputs": [],
   "source": [
    "slice_at_z(interference_amps, z=0, label_x=\"x/\\u0394x\", label_y=\"I(x,1\\u0394z)\")"
   ]
  },
  {
   "cell_type": "code",
   "execution_count": null,
   "metadata": {},
   "outputs": [],
   "source": [
    "slice_at_z(interference_amps, z=10, label_x=\"x/\\u0394x\", label_y=\"I(x,50\\u0394z)\")"
   ]
  },
  {
   "cell_type": "code",
   "execution_count": null,
   "metadata": {},
   "outputs": [],
   "source": [
    "slice_at_z(interference_amps, z=20, label_x=\"x/\\u0394x\", label_y=\"I(x,50\\u0394z)\")"
   ]
  },
  {
   "cell_type": "code",
   "execution_count": null,
   "metadata": {
    "colab": {},
    "colab_type": "code",
    "id": "BF6VkEMEWbGw",
    "scrolled": false
   },
   "outputs": [],
   "source": [
    "data = np.load(path_canalisation)\n",
    "canalisation_amps = data[:, :, 0].transpose()\n",
    "amps = np.log1p(10 * canalisation_amps)\n",
    "\n",
    "plot = pd.DataFrame(amps)\n",
    "plot = plot.rename({i: round(i*100/16384) for i in range(data.shape[1])}, axis=0)\n",
    "plot = plot.rename({i: round(i* 16/   10) for i in range(data.shape[0])}, axis=1)\n",
    "\n",
    "ax, fig = plt.subplots(figsize=(20,15))\n",
    "sns.heatmap(plot)\n",
    "plt.xlabel(\"Z, м\", fontsize=12) \n",
    "plt.ylabel(\"X, м\", fontsize=12) \n",
    "\n",
    "plt.show()"
   ]
  },
  {
   "cell_type": "code",
   "execution_count": null,
   "metadata": {},
   "outputs": [],
   "source": [
    "slice_at_z(canalisation_amps, z=0, label_x=\"x/\\u0394x\", label_y=\"I(x,0\\u0394z)\")"
   ]
  },
  {
   "cell_type": "code",
   "execution_count": null,
   "metadata": {},
   "outputs": [],
   "source": [
    "slice_at_z(canalisation_amps, z=400, label_x=\"x/\\u0394x\", label_y=\"I(x,400\\u0394z)\")"
   ]
  },
  {
   "cell_type": "code",
   "execution_count": null,
   "metadata": {},
   "outputs": [],
   "source": [
    "slice_at_z(canalisation_amps, z=600, label_x=\"x/\\u0394x\", label_y=\"I(x, 600\\u0394z)\")"
   ]
  },
  {
   "cell_type": "code",
   "execution_count": null,
   "metadata": {},
   "outputs": [],
   "source": [
    "slice_at_z(canalisation_amps, z=800, label_x=\"x/\\u0394x\", label_y=\"I(x, 800\\u0394z)\")"
   ]
  },
  {
   "cell_type": "code",
   "execution_count": null,
   "metadata": {},
   "outputs": [],
   "source": [
    "slice_at_z(canalisation_amps, z=1400, label_x=\"x/\\u0394x\", label_y=\"I(x, 1400\\u0394z)\")"
   ]
  },
  {
   "cell_type": "code",
   "execution_count": null,
   "metadata": {},
   "outputs": [],
   "source": [
    "slice_at_z(canalisation_amps, z=2000, label_x=\"x/\\u0394x\", label_y=\"I(x, 2000\\u0394z)\")"
   ]
  },
  {
   "cell_type": "code",
   "execution_count": null,
   "metadata": {},
   "outputs": [],
   "source": [
    "data = np.load(path_turbulence)\n",
    "turbulence_amps = data[:, :, 0].transpose()\n",
    "amps = np.log1p(10 * turbulence_amps)\n",
    "\n",
    "\n",
    "plot = pd.DataFrame(amps)\n",
    "plot = plot.rename({i: round(i*100/16384) for i in range(data.shape[1])}, axis=0)\n",
    "plot = plot.rename({i: round(i* 16/   10) for i in range(data.shape[0])}, axis=1)\n",
    "\n",
    "ax, fig = plt.subplots(figsize=(20,15))\n",
    "sns.heatmap(plot)\n",
    "plt.xlabel(\"Z, м\", fontsize=12) \n",
    "plt.ylabel(\"X, м\", fontsize=12) \n",
    "\n",
    "plt.show()"
   ]
  },
  {
   "cell_type": "code",
   "execution_count": null,
   "metadata": {},
   "outputs": [],
   "source": [
    "slice_at_z(turbulence_amps, z=0, label_x=\"x/\\u0394x\", label_y=\"I(x,1\\u0394z)\")"
   ]
  },
  {
   "cell_type": "code",
   "execution_count": null,
   "metadata": {},
   "outputs": [],
   "source": [
    "slice_at_z(turbulence_amps, z=2000, label_x=\"x/\\u0394x\", label_y=\"I(x, 2000\\u0394z)\")"
   ]
  },
  {
   "cell_type": "code",
   "execution_count": null,
   "metadata": {},
   "outputs": [],
   "source": [
    "slice_at_z(turbulence_amps, z=4000, label_x=\"x/\\u0394x\", label_y=\"I(x, 4000\\u0394z)\")"
   ]
  },
  {
   "cell_type": "code",
   "execution_count": null,
   "metadata": {},
   "outputs": [],
   "source": [
    "data = np.load(path_amp_lattice)\n",
    "amp_lattice_amps = data[:, :, 0].transpose()\n",
    "amps = np.log1p(10 * amp_lattice_amps)\n",
    "\n",
    "plot = pd.DataFrame(amps)\n",
    "plot = plot.rename({i: round(i*100/16384) for i in range(data.shape[1])}, axis=0)\n",
    "plot = plot.rename({i: round(i* 16/   10) for i in range(data.shape[0])}, axis=1)\n",
    "\n",
    "ax, fig = plt.subplots(figsize=(20,15))\n",
    "sns.heatmap(plot)\n",
    "plt.xlabel(\"Z, м\", fontsize=12) \n",
    "plt.ylabel(\"X, м\", fontsize=12) \n",
    "\n",
    "plt.show()"
   ]
  },
  {
   "cell_type": "code",
   "execution_count": null,
   "metadata": {},
   "outputs": [],
   "source": [
    "slice_at_z(amp_lattice_amps, z=16, label_x=\"x/\\u0394x\", label_y=\"I(x, 16\\u0394z)\")"
   ]
  },
  {
   "cell_type": "code",
   "execution_count": null,
   "metadata": {},
   "outputs": [],
   "source": [
    "slice_at_z(amp_lattice_amps, z=50, label_x=\"x/\\u0394x\", label_y=\"I(x, 50\\u0394z)\")"
   ]
  },
  {
   "cell_type": "code",
   "execution_count": null,
   "metadata": {},
   "outputs": [],
   "source": [
    "slice_at_z(amp_lattice_amps, z=100, label_x=\"x/\\u0394x\", label_y=\"I(x, 100\\u0394z)\")"
   ]
  },
  {
   "cell_type": "code",
   "execution_count": null,
   "metadata": {},
   "outputs": [],
   "source": [
    "slice_at_z(amp_lattice_amps, z=200, label_x=\"x/\\u0394x\", label_y=\"I(x, 200\\u0394z)\")"
   ]
  },
  {
   "cell_type": "code",
   "execution_count": null,
   "metadata": {},
   "outputs": [],
   "source": [
    "slice_at_z(amp_lattice_amps, z=300, label_x=\"x/\\u0394x\", label_y=\"I(x, 200\\u0394z)\")"
   ]
  },
  {
   "cell_type": "code",
   "execution_count": null,
   "metadata": {},
   "outputs": [],
   "source": [
    "data                 = np.load(path_phase_lattice)\n",
    "phase_lattice_amps   = data[:, :, 0].transpose()\n",
    "amps                 = np.log1p(10 * phase_lattice_amps)\n",
    "phase_lattice_phases = data[:, :, 1].transpose()\n",
    "\n",
    "# plot = pd.DataFrame(amps)\n",
    "# plot = plot.rename({i: round(i*100/16384) for i in range(data.shape[1])}, axis=0)\n",
    "# plot = plot.rename({i: round(i* 16/   10) for i in range(data.shape[0])}, axis=1)\n",
    "\n",
    "# ax, fig = plt.subplots(figsize=(20,15))\n",
    "# sns.heatmap(plot)\n",
    "# plt.xlabel(\"Z, м\", fontsize=12) \n",
    "# plt.ylabel(\"X, м\", fontsize=12) \n",
    "\n",
    "# plt.show()"
   ]
  },
  {
   "cell_type": "code",
   "execution_count": null,
   "metadata": {},
   "outputs": [],
   "source": [
    "slice_at_z(phase_lattice_phases, z=16, label_x=\"x/\\u0394x\", label_y=\"I(x, 16\\u0394z)\")"
   ]
  },
  {
   "cell_type": "code",
   "execution_count": null,
   "metadata": {},
   "outputs": [],
   "source": [
    "slice_at_z(phase_lattice_amps, z=2000, label_x=\"x/\\u0394x\", label_y=\"I(x, 2000\\u0394z)\")"
   ]
  },
  {
   "cell_type": "code",
   "execution_count": null,
   "metadata": {},
   "outputs": [],
   "source": [
    "slice_at_z(phase_lattice_amps, z=4000, label_x=\"x/\\u0394x\", label_y=\"I(x, 4000\\u0394z)\")"
   ]
  },
  {
   "cell_type": "code",
   "execution_count": null,
   "metadata": {},
   "outputs": [],
   "source": []
  }
 ],
 "metadata": {
  "accelerator": "GPU",
  "colab": {
   "collapsed_sections": [],
   "machine_shape": "hm",
   "name": "Vis.ipynb",
   "provenance": []
  },
  "kernelspec": {
   "display_name": "Python 3",
   "language": "python",
   "name": "python3"
  },
  "language_info": {
   "codemirror_mode": {
    "name": "ipython",
    "version": 3
   },
   "file_extension": ".py",
   "mimetype": "text/x-python",
   "name": "python",
   "nbconvert_exporter": "python",
   "pygments_lexer": "ipython3",
   "version": "3.6.9"
  }
 },
 "nbformat": 4,
 "nbformat_minor": 1
}
