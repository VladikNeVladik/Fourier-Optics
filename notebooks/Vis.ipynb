{
  "nbformat": 4,
  "nbformat_minor": 0,
  "metadata": {
    "colab": {
      "name": "ВПВ.ipynb",
      "provenance": [],
      "machine_shape": "hm"
    },
    "kernelspec": {
      "name": "python3",
      "display_name": "Python 3"
    },
    "accelerator": "GPU"
  },
  "cells": [
    {
      "cell_type": "code",
      "metadata": {
        "id": "JwNiMNEZLY6S",
        "colab_type": "code",
        "colab": {}
      },
      "source": [
        "# pip install numpy\n",
        "# pip install matplotlib\n",
        "# pip install seaborn"
      ],
      "execution_count": 0,
      "outputs": []
    },
    {
      "cell_type": "code",
      "metadata": {
        "id": "v6VIws74hAof",
        "colab_type": "code",
        "outputId": "7cd01c1e-96b6-49e8-cc2d-9eb41440f32d",
        "colab": {
          "base_uri": "https://localhost:8080/",
          "height": 71
        }
      },
      "source": [
        "import numpy as np\n",
        "import seaborn as sns\n",
        "import matplotlib.pyplot as plt"
      ],
      "execution_count": 2,
      "outputs": [
        {
          "output_type": "stream",
          "text": [
            "/usr/local/lib/python3.6/dist-packages/statsmodels/tools/_testing.py:19: FutureWarning: pandas.util.testing is deprecated. Use the functions in the public API at pandas.testing instead.\n",
            "  import pandas.util.testing as tm\n"
          ],
          "name": "stderr"
        }
      ]
    },
    {
      "cell_type": "code",
      "metadata": {
        "id": "4aWUxc37JuAx",
        "colab_type": "code",
        "colab": {}
      },
      "source": [
        "data = np.load(PATH)"
      ],
      "execution_count": 0,
      "outputs": []
    },
    {
      "cell_type": "code",
      "metadata": {
        "id": "01aYgyM1LU3f",
        "colab_type": "code",
        "colab": {}
      },
      "source": [
        "data.shape #размеры"
      ],
      "execution_count": 0,
      "outputs": []
    },
    {
      "cell_type": "code",
      "metadata": {
        "id": "5rBCyTuIJ3XL",
        "colab_type": "code",
        "colab": {
          "base_uri": "https://localhost:8080/",
          "height": 850
        },
        "outputId": "3d15cbc2-baa1-4a55-a7d8-1253be5f02c5"
      },
      "source": [
        "data"
      ],
      "execution_count": 7,
      "outputs": [
        {
          "output_type": "execute_result",
          "data": {
            "text/plain": [
              "array([[[0.00000000e+00, 0.00000000e+00],\n",
              "        [1.22718463e-02, 0.00000000e+00],\n",
              "        [2.45436926e-02, 0.00000000e+00],\n",
              "        ...,\n",
              "        [5.02286669e+01, 0.00000000e+00],\n",
              "        [5.02409388e+01, 0.00000000e+00],\n",
              "        [5.02532106e+01, 0.00000000e+00]],\n",
              "\n",
              "       [[           nan,            nan],\n",
              "        [           nan,            nan],\n",
              "        [           nan,            nan],\n",
              "        ...,\n",
              "        [           nan,            nan],\n",
              "        [           nan,            nan],\n",
              "        [           nan,            nan]],\n",
              "\n",
              "       [[           nan,            nan],\n",
              "        [           nan,            nan],\n",
              "        [           nan,            nan],\n",
              "        ...,\n",
              "        [           nan,            nan],\n",
              "        [           nan,            nan],\n",
              "        [           nan,            nan]],\n",
              "\n",
              "       ...,\n",
              "\n",
              "       [[           nan,            nan],\n",
              "        [           nan,            nan],\n",
              "        [           nan,            nan],\n",
              "        ...,\n",
              "        [           nan,            nan],\n",
              "        [           nan,            nan],\n",
              "        [           nan,            nan]],\n",
              "\n",
              "       [[           nan,            nan],\n",
              "        [           nan,            nan],\n",
              "        [           nan,            nan],\n",
              "        ...,\n",
              "        [           nan,            nan],\n",
              "        [           nan,            nan],\n",
              "        [           nan,            nan]],\n",
              "\n",
              "       [[           nan,            nan],\n",
              "        [           nan,            nan],\n",
              "        [           nan,            nan],\n",
              "        ...,\n",
              "        [           nan,            nan],\n",
              "        [           nan,            nan],\n",
              "        [           nan,            nan]]])"
            ]
          },
          "metadata": {
            "tags": []
          },
          "execution_count": 7
        }
      ]
    },
    {
      "cell_type": "code",
      "metadata": {
        "id": "0TVrQCDViOLB",
        "colab_type": "code",
        "colab": {}
      },
      "source": [
        "plt.subplots(figsize=(20,15))\n",
        "sns.heatmap(data)"
      ],
      "execution_count": 0,
      "outputs": []
    },
    {
      "cell_type": "code",
      "metadata": {
        "id": "HalGxh2bi-FL",
        "colab_type": "code",
        "colab": {}
      },
      "source": [
        ""
      ],
      "execution_count": 0,
      "outputs": []
    }
  ]
}