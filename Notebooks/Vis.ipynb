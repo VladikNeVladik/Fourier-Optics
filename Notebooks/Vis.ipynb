{
  "nbformat": 4,
  "nbformat_minor": 0,
  "metadata": {
    "colab": {
      "name": "Vis.ipynb",
      "provenance": [],
      "collapsed_sections": [],
      "machine_shape": "hm"
    },
    "kernelspec": {
      "name": "python3",
      "display_name": "Python 3"
    },
    "accelerator": "GPU"
  },
  "cells": [
    {
      "cell_type": "markdown",
      "metadata": {
        "id": "G_3xDJTgGIzj",
        "colab_type": "text"
      },
      "source": [
        "#Functions"
      ]
    },
    {
      "cell_type": "code",
      "metadata": {
        "id": "yYGtMI5gGObf",
        "colab_type": "code",
        "colab": {}
      },
      "source": [
        "def draw_x(data, dim=0, coordinate=0, label_x='', label_y='', min_x=0, max_x=0, min_y=0, max_y=0):\n",
        "  y = data[coordinate, :] if dim==0 else data[:, coordinate]\n",
        "  x = np.arange(0, len(data))\n",
        "  plt.plot(x, y)\n",
        "  \n",
        "  max_x = len(x) if max_x == 0 else max_x\n",
        "  max_y = len(y) if max_y == 0 else max_y\n",
        "  plt.xlim(min_x, max_x)\n",
        "  plt.ylim(min_y, max_y)\n",
        "  \n",
        "  plt.xlabel(label_x, fontsize=12)\n",
        "  plt.ylabel(label_y, fontsize=12)\n",
        "  plt.grid(True)\n",
        "  plt.show()"
      ],
      "execution_count": 0,
      "outputs": []
    },
    {
      "cell_type": "markdown",
      "metadata": {
        "id": "CY_abg2OGMLQ",
        "colab_type": "text"
      },
      "source": [
        "#...\n"
      ]
    },
    {
      "cell_type": "code",
      "metadata": {
        "id": "JwNiMNEZLY6S",
        "colab_type": "code",
        "colab": {}
      },
      "source": [
        "# pip install numpy\n",
        "# pip install matplotlib\n",
        "# pip install seaborn"
      ],
      "execution_count": 0,
      "outputs": []
    },
    {
      "cell_type": "code",
      "metadata": {
        "id": "v6VIws74hAof",
        "colab_type": "code",
        "outputId": "ee0dff40-2ee8-4929-e9b6-36a718aa68e0",
        "colab": {
          "base_uri": "https://localhost:8080/",
          "height": 51
        }
      },
      "source": [
        "import numpy as np\n",
        "import seaborn as sns\n",
        "import matplotlib.pyplot as plt"
      ],
      "execution_count": 1,
      "outputs": [
        {
          "output_type": "stream",
          "text": [
            "/usr/local/lib/python3.6/dist-packages/statsmodels/tools/_testing.py:19: FutureWarning: pandas.util.testing is deprecated. Use the functions in the public API at pandas.testing instead.\n",
            "  import pandas.util.testing as tm\n"
          ],
          "name": "stderr"
        }
      ]
    },
    {
      "cell_type": "code",
      "metadata": {
        "id": "4aWUxc37JuAx",
        "colab_type": "code",
        "colab": {}
      },
      "source": [
        "data = np.load(PATH)"
      ],
      "execution_count": 0,
      "outputs": []
    },
    {
      "cell_type": "code",
      "metadata": {
        "id": "01aYgyM1LU3f",
        "colab_type": "code",
        "colab": {}
      },
      "source": [
        "data.shape #размеры"
      ],
      "execution_count": 0,
      "outputs": []
    },
    {
      "cell_type": "code",
      "metadata": {
        "id": "5rBCyTuIJ3XL",
        "colab_type": "code",
        "outputId": "3d15cbc2-baa1-4a55-a7d8-1253be5f02c5",
        "colab": {
          "base_uri": "https://localhost:8080/",
          "height": 850
        }
      },
      "source": [
        "data"
      ],
      "execution_count": 0,
      "outputs": [
        {
          "output_type": "execute_result",
          "data": {
            "text/plain": [
              "array([[[0.00000000e+00, 0.00000000e+00],\n",
              "        [1.22718463e-02, 0.00000000e+00],\n",
              "        [2.45436926e-02, 0.00000000e+00],\n",
              "        ...,\n",
              "        [5.02286669e+01, 0.00000000e+00],\n",
              "        [5.02409388e+01, 0.00000000e+00],\n",
              "        [5.02532106e+01, 0.00000000e+00]],\n",
              "\n",
              "       [[           nan,            nan],\n",
              "        [           nan,            nan],\n",
              "        [           nan,            nan],\n",
              "        ...,\n",
              "        [           nan,            nan],\n",
              "        [           nan,            nan],\n",
              "        [           nan,            nan]],\n",
              "\n",
              "       [[           nan,            nan],\n",
              "        [           nan,            nan],\n",
              "        [           nan,            nan],\n",
              "        ...,\n",
              "        [           nan,            nan],\n",
              "        [           nan,            nan],\n",
              "        [           nan,            nan]],\n",
              "\n",
              "       ...,\n",
              "\n",
              "       [[           nan,            nan],\n",
              "        [           nan,            nan],\n",
              "        [           nan,            nan],\n",
              "        ...,\n",
              "        [           nan,            nan],\n",
              "        [           nan,            nan],\n",
              "        [           nan,            nan]],\n",
              "\n",
              "       [[           nan,            nan],\n",
              "        [           nan,            nan],\n",
              "        [           nan,            nan],\n",
              "        ...,\n",
              "        [           nan,            nan],\n",
              "        [           nan,            nan],\n",
              "        [           nan,            nan]],\n",
              "\n",
              "       [[           nan,            nan],\n",
              "        [           nan,            nan],\n",
              "        [           nan,            nan],\n",
              "        ...,\n",
              "        [           nan,            nan],\n",
              "        [           nan,            nan],\n",
              "        [           nan,            nan]]])"
            ]
          },
          "metadata": {
            "tags": []
          },
          "execution_count": 7
        }
      ]
    },
    {
      "cell_type": "code",
      "metadata": {
        "id": "0TVrQCDViOLB",
        "colab_type": "code",
        "colab": {}
      },
      "source": [
        "plt.subplots(figsize=(20,15))\n",
        "sns.heatmap(data)"
      ],
      "execution_count": 0,
      "outputs": []
    },
    {
      "cell_type": "code",
      "metadata": {
        "id": "HalGxh2bi-FL",
        "colab_type": "code",
        "colab": {}
      },
      "source": [
        ""
      ],
      "execution_count": 0,
      "outputs": []
    }
  ]
}